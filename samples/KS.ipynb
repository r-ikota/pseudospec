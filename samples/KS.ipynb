{
 "cells": [
  {
   "cell_type": "markdown",
   "metadata": {},
   "source": [
    "# Kuramoto-Sivashinsky Equation"
   ]
  },
  {
   "cell_type": "markdown",
   "metadata": {},
   "source": [
    "$$\n",
    "u_t = -u u_x - u_{xx} - \\nu u_{xxxx}  \\qquad (0 < x < L)\n",
    "$$"
   ]
  },
  {
   "cell_type": "markdown",
   "metadata": {},
   "source": [
    "$$\n",
    "u_t = -\\lambda u u_x - \\lambda^2 u_{xx} - \\nu \\lambda^4 u_{xxxx}, \\qquad (0 < x < 1)\n",
    "$$"
   ]
  },
  {
   "cell_type": "markdown",
   "metadata": {},
   "source": [
    "## Importing modules "
   ]
  },
  {
   "cell_type": "code",
   "execution_count": 1,
   "metadata": {},
   "outputs": [],
   "source": [
    "%matplotlib qt5"
   ]
  },
  {
   "cell_type": "code",
   "execution_count": 2,
   "metadata": {},
   "outputs": [],
   "source": [
    "import time\n",
    "\n",
    "import numpy as np\n",
    "import equations as eq\n",
    "from scipy.fftpack import rfft, irfft\n",
    "\n",
    "import h5py\n",
    "\n",
    "import matplotlib.pyplot as plt\n",
    "import matplotlib.animation as animation\n",
    "from matplotlib.gridspec import GridSpec"
   ]
  },
  {
   "cell_type": "markdown",
   "metadata": {},
   "source": [
    "## Setting Parameters "
   ]
  },
  {
   "cell_type": "code",
   "execution_count": 3,
   "metadata": {},
   "outputs": [],
   "source": [
    "NW = 48\n",
    "ks01 = eq.KS(NW)\n",
    "args = ks01.getParamDefault()\n",
    "\n",
    "N2 = ks01.N2\n",
    "J = ks01.J\n",
    "x = ks01.get_x()"
   ]
  },
  {
   "cell_type": "markdown",
   "metadata": {},
   "source": [
    "## Setting initial data "
   ]
  },
  {
   "cell_type": "code",
   "execution_count": 4,
   "metadata": {},
   "outputs": [],
   "source": [
    "u0 = np.zeros(N2)\n",
    "u0[1] = 0.5*J"
   ]
  },
  {
   "cell_type": "markdown",
   "metadata": {},
   "source": [
    "## Computation "
   ]
  },
  {
   "cell_type": "code",
   "execution_count": 5,
   "metadata": {},
   "outputs": [],
   "source": [
    "trange0 = np.arange(0., 50.0, 2.0)\n",
    "trange1 = np.arange(0., 450.0, 2.0)\n",
    "\n",
    "max_step = 1.0e-1"
   ]
  },
  {
   "cell_type": "code",
   "execution_count": 6,
   "metadata": {},
   "outputs": [],
   "source": [
    "fname = 'ks.hdf5'"
   ]
  },
  {
   "cell_type": "markdown",
   "metadata": {},
   "source": [
    "### Comparison of Several Solvers\n",
    "\n",
    "See [the official document](https://docs.scipy.org/doc/scipy/reference/generated/scipy.integrate.solve_ivp.html \"scipy doc\")\n",
    "for the information of available solvers."
   ]
  },
  {
   "cell_type": "code",
   "execution_count": 7,
   "metadata": {},
   "outputs": [
    {
     "name": "stdout",
     "output_type": "stream",
     "text": [
      "369\n"
     ]
    }
   ],
   "source": [
    "stime = time.time()\n",
    "with h5py.File(fname, 'w') as fh:\n",
    "    ks01.mkInitDataSet(u0, fh)\n",
    "    ks01.evolve(fh, trange0, tuple(args), \n",
    "                max_step=max_step, method='RK23')\n",
    "etime = time.time()\n",
    "print(int(etime - stime))"
   ]
  },
  {
   "cell_type": "code",
   "execution_count": 8,
   "metadata": {},
   "outputs": [
    {
     "name": "stdout",
     "output_type": "stream",
     "text": [
      "2\n"
     ]
    }
   ],
   "source": [
    "stime = time.time()\n",
    "with h5py.File(fname, 'w') as fh:\n",
    "    ks01.mkInitDataSet(u0, fh)\n",
    "    ks01.evolve(fh, trange0, tuple(args), \n",
    "                max_step=max_step, method='Radau')\n",
    "etime = time.time()\n",
    "print(int(etime - stime))"
   ]
  },
  {
   "cell_type": "code",
   "execution_count": 9,
   "metadata": {},
   "outputs": [
    {
     "name": "stdout",
     "output_type": "stream",
     "text": [
      "0\n"
     ]
    }
   ],
   "source": [
    "stime = time.time()\n",
    "with h5py.File(fname, 'w') as fh:\n",
    "    ks01.mkInitDataSet(u0, fh)\n",
    "    ks01.evolve(fh, trange0, tuple(args), \n",
    "                max_step=max_step, method='BDF')\n",
    "etime = time.time()\n",
    "print(int(etime - stime))"
   ]
  },
  {
   "cell_type": "markdown",
   "metadata": {},
   "source": [
    "### Continuation of the Computation"
   ]
  },
  {
   "cell_type": "code",
   "execution_count": 10,
   "metadata": {},
   "outputs": [
    {
     "name": "stdout",
     "output_type": "stream",
     "text": [
      "6\n"
     ]
    }
   ],
   "source": [
    "stime = time.time()\n",
    "with h5py.File(fname, 'r+') as fh:\n",
    "    ks01.evolve(fh, trange1, tuple(args), \n",
    "                max_step=max_step, method='BDF')\n",
    "etime = time.time()\n",
    "print(int(etime - stime))"
   ]
  },
  {
   "cell_type": "markdown",
   "metadata": {},
   "source": [
    "## Visualization"
   ]
  },
  {
   "cell_type": "code",
   "execution_count": 11,
   "metadata": {
    "scrolled": true
   },
   "outputs": [
    {
     "name": "stderr",
     "output_type": "stream",
     "text": [
      "C:\\Users\\rikota\\Anaconda3\\lib\\site-packages\\scipy\\fftpack\\basic.py:160: FutureWarning: Using a non-tuple sequence for multidimensional indexing is deprecated; use `arr[tuple(seq)]` instead of `arr[seq]`. In the future this will be interpreted as an array index, `arr[np.array(seq)]`, which will result either in an error or a different result.\n",
      "  z[index] = x\n"
     ]
    }
   ],
   "source": [
    "with h5py.File(fname, 'r') as fh:\n",
    "    data = fh['u'][()]\n",
    "    time = fh['trange'][()]\n",
    "\n",
    "up = ks01.mkPhysData(data)"
   ]
  },
  {
   "cell_type": "code",
   "execution_count": 12,
   "metadata": {},
   "outputs": [],
   "source": [
    "gsP = GridSpec(1,1)\n",
    "gsT = GridSpec(1,1)\n",
    "gsP.update(bottom=0.3, top=0.9)\n",
    "gsT.update(bottom=0.05, top=0.2)\n",
    "fig = plt.figure(figsize=(4,5))\n",
    "\n",
    "ax = fig.add_subplot(gsP[0])\n",
    "ax.set_ylim((-3.0, 3.0))\n",
    "ax.set_xlim((-0.1, 1.1))\n",
    "ax.grid(True)\n",
    "lines = plt.plot(x, [np.nan]*len(x))\n",
    "\n",
    "timeframe = fig.add_subplot(gsT[0])\n",
    "timeframe.set_axis_off()\n",
    "timer = timeframe.text(0.5,0.5,\n",
    "                       '', \n",
    "                       va='center', ha=\"center\"\n",
    "                      )\n",
    "timeformat = \"time = {0:08.3f}\""
   ]
  },
  {
   "cell_type": "code",
   "execution_count": 13,
   "metadata": {},
   "outputs": [],
   "source": [
    "def init():\n",
    "    for l in lines:\n",
    "        l.set_ydata([np.nan] * len(x))\n",
    "    timer.set_text(timeformat.format(time[0]))\n",
    "    return lines + [timer]\n",
    "\n",
    "def animate(i):\n",
    "    for l in lines:\n",
    "        l.set_ydata(up[i,:])\n",
    "    timer.set_text(timeformat.format(time[i]))\n",
    "    return lines + [timer]"
   ]
  },
  {
   "cell_type": "code",
   "execution_count": 14,
   "metadata": {},
   "outputs": [],
   "source": [
    "ani = animation.FuncAnimation(\n",
    "    fig, animate, frames=up.shape[0],\n",
    "    init_func=init, interval=100, blit=True,\n",
    "    repeat=True)\n",
    "\n",
    "plt.show()"
   ]
  }
 ],
 "metadata": {
  "kernelspec": {
   "display_name": "Python 3",
   "language": "python",
   "name": "python3"
  },
  "language_info": {
   "codemirror_mode": {
    "name": "ipython",
    "version": 3
   },
   "file_extension": ".py",
   "mimetype": "text/x-python",
   "name": "python",
   "nbconvert_exporter": "python",
   "pygments_lexer": "ipython3",
   "version": "3.7.1"
  }
 },
 "nbformat": 4,
 "nbformat_minor": 2
}
