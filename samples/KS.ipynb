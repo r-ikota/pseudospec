{
 "cells": [
  {
   "cell_type": "markdown",
   "metadata": {},
   "source": [
    "# Kuramoto-Sivashinsky Equation"
   ]
  },
  {
   "cell_type": "markdown",
   "metadata": {},
   "source": [
    "$$\n",
    "u_t = -u u_x - u_{xx} - \\nu u_{xxxx}  \\qquad (0 < x < L)\n",
    "$$"
   ]
  },
  {
   "cell_type": "markdown",
   "metadata": {},
   "source": [
    "$$\n",
    "u_t = -\\lambda u u_x - \\lambda^2 u_{xx} - \\nu \\lambda^4 u_{xxxx}, \\qquad (0 < x < 1)\n",
    "$$"
   ]
  },
  {
   "cell_type": "markdown",
   "metadata": {},
   "source": [
    "## Importing modules "
   ]
  },
  {
   "cell_type": "code",
   "execution_count": 1,
   "metadata": {},
   "outputs": [],
   "source": [
    "%matplotlib widget"
   ]
  },
  {
   "cell_type": "code",
   "execution_count": 2,
   "metadata": {},
   "outputs": [],
   "source": [
    "import time\n",
    "\n",
    "import numpy as np\n",
    "import equations as eq\n",
    "\n",
    "import h5py\n",
    "\n",
    "import matplotlib.pyplot as plt\n",
    "import matplotlib.animation as animation\n",
    "from matplotlib.gridspec import GridSpec"
   ]
  },
  {
   "cell_type": "markdown",
   "metadata": {},
   "source": [
    "## Setting Parameters "
   ]
  },
  {
   "cell_type": "code",
   "execution_count": 3,
   "metadata": {},
   "outputs": [],
   "source": [
    "NW = 48\n",
    "ks01 = eq.KS(NW)\n",
    "args = ks01.getParamDefault()\n",
    "\n",
    "# N2 = ks01.N2\n",
    "J = ks01.J\n",
    "x = ks01.sc.get_x()"
   ]
  },
  {
   "cell_type": "markdown",
   "metadata": {},
   "source": [
    "## Setting initial data "
   ]
  },
  {
   "cell_type": "code",
   "execution_count": 4,
   "metadata": {},
   "outputs": [],
   "source": [
    "u0c = ks01.sc.get_one_cwave((1,)) * 0.5"
   ]
  },
  {
   "cell_type": "markdown",
   "metadata": {},
   "source": [
    "## Computation "
   ]
  },
  {
   "cell_type": "code",
   "execution_count": 5,
   "metadata": {},
   "outputs": [],
   "source": [
    "trange0 = np.arange(0., 50.0, 2.0)\n",
    "trange1 = np.arange(0., 450.0, 2.0)\n",
    "\n",
    "max_step = 1.0e-1"
   ]
  },
  {
   "cell_type": "code",
   "execution_count": 6,
   "metadata": {},
   "outputs": [],
   "source": [
    "fname = 'ks.hdf5'"
   ]
  },
  {
   "cell_type": "markdown",
   "metadata": {},
   "source": [
    "### Comparison of Several Solvers\n",
    "\n",
    "See [the official document](https://docs.scipy.org/doc/scipy/reference/generated/scipy.integrate.solve_ivp.html \"scipy doc\")\n",
    "for the information of available solvers."
   ]
  },
  {
   "cell_type": "code",
   "execution_count": 7,
   "metadata": {},
   "outputs": [
    {
     "name": "stderr",
     "output_type": "stream",
     "text": [
      "Computing ...: 100%|██████████| 5/5 [07:37<00:00, 91.44s/it]\n"
     ]
    }
   ],
   "source": [
    "with h5py.File(fname, 'w') as fh:\n",
    "    ks01.mkInitDataSet(u0c, fh)\n",
    "    ks01.evolve(fh, trange0, tuple(args), NTlump=5,\n",
    "                max_step=max_step, method='RK23')"
   ]
  },
  {
   "cell_type": "code",
   "execution_count": 8,
   "metadata": {},
   "outputs": [
    {
     "name": "stderr",
     "output_type": "stream",
     "text": [
      "Computing ...: 100%|██████████| 5/5 [00:02<00:00,  2.44it/s]\n"
     ]
    }
   ],
   "source": [
    "with h5py.File(fname, 'w') as fh:\n",
    "    ks01.mkInitDataSet(u0c, fh)\n",
    "    ks01.evolve(fh, trange0, tuple(args), NTlump=5, \n",
    "                max_step=max_step, method='Radau')"
   ]
  },
  {
   "cell_type": "code",
   "execution_count": 9,
   "metadata": {},
   "outputs": [
    {
     "name": "stderr",
     "output_type": "stream",
     "text": [
      "Computing ...: 100%|██████████| 5/5 [00:00<00:00,  7.80it/s]\n"
     ]
    }
   ],
   "source": [
    "with h5py.File(fname, 'w') as fh:\n",
    "    ks01.mkInitDataSet(u0c, fh)\n",
    "    ks01.evolve(fh, trange0, tuple(args), NTlump=5,\n",
    "                max_step=max_step, method='BDF')"
   ]
  },
  {
   "cell_type": "markdown",
   "metadata": {},
   "source": [
    "### Continuation of the Computation"
   ]
  },
  {
   "cell_type": "code",
   "execution_count": 10,
   "metadata": {},
   "outputs": [
    {
     "name": "stderr",
     "output_type": "stream",
     "text": [
      "Computing ...: 100%|██████████| 2/2 [00:13<00:00,  6.97s/it]\n"
     ]
    }
   ],
   "source": [
    "with h5py.File(fname, 'r+') as fh:\n",
    "    ks01.evolve(fh, trange1, tuple(args), \n",
    "                max_step=max_step, method='Radau')"
   ]
  },
  {
   "cell_type": "markdown",
   "metadata": {},
   "source": [
    "## Visualization"
   ]
  },
  {
   "cell_type": "code",
   "execution_count": 11,
   "metadata": {},
   "outputs": [],
   "source": [
    "with h5py.File(fname, 'r') as fh:\n",
    "    wp = fh['wp'][()]\n",
    "    time = fh['trange'][()]"
   ]
  },
  {
   "cell_type": "code",
   "execution_count": 12,
   "metadata": {},
   "outputs": [
    {
     "data": {
      "application/vnd.jupyter.widget-view+json": {
       "model_id": "f8968fea464e45329bb9a4e9e2de0443",
       "version_major": 2,
       "version_minor": 0
      },
      "text/plain": [
       "Canvas(toolbar=Toolbar(toolitems=[('Home', 'Reset original view', 'home', 'home'), ('Back', 'Back to previous …"
      ]
     },
     "metadata": {},
     "output_type": "display_data"
    }
   ],
   "source": [
    "gsP = GridSpec(1,1)\n",
    "gsT = GridSpec(1,1)\n",
    "gsP.update(bottom=0.3, top=0.9)\n",
    "gsT.update(bottom=0.05, top=0.2)\n",
    "fig = plt.figure(figsize=(4,5))\n",
    "\n",
    "ax = fig.add_subplot(gsP[0])\n",
    "ax.set_ylim((-3.0, 3.0))\n",
    "ax.set_xlim((-0.1, 1.1))\n",
    "ax.grid(True)\n",
    "lines = plt.plot(x, [np.nan]*len(x))\n",
    "\n",
    "timeframe = fig.add_subplot(gsT[0])\n",
    "timeframe.set_axis_off()\n",
    "timer = timeframe.text(0.5,0.5,\n",
    "                       '', \n",
    "                       va='center', ha=\"center\"\n",
    "                      )\n",
    "timeformat = \"time = {0:08.3f}\"\n",
    "\n",
    "def init():\n",
    "    for l in lines:\n",
    "        l.set_ydata([np.nan] * len(x))\n",
    "    timer.set_text(timeformat.format(time[0]))\n",
    "    return lines + [timer]\n",
    "\n",
    "def animate(i):\n",
    "    for l in lines:\n",
    "        l.set_ydata(wp[i,:])\n",
    "    timer.set_text(timeformat.format(time[i]))\n",
    "    return lines + [timer]\n",
    "\n",
    "ani = animation.FuncAnimation(\n",
    "    fig, animate, frames=wp.shape[0],\n",
    "    init_func=init, interval=100, blit=True,\n",
    "    repeat=False)\n",
    "\n",
    "plt.show()"
   ]
  }
 ],
 "metadata": {
  "kernelspec": {
   "display_name": "Python 3 (ipykernel)",
   "language": "python",
   "name": "python3"
  },
  "language_info": {
   "codemirror_mode": {
    "name": "ipython",
    "version": 3
   },
   "file_extension": ".py",
   "mimetype": "text/x-python",
   "name": "python",
   "nbconvert_exporter": "python",
   "pygments_lexer": "ipython3",
   "version": "3.9.5"
  }
 },
 "nbformat": 4,
 "nbformat_minor": 4
}
