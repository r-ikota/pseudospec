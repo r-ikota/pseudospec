{
 "cells": [
  {
   "cell_type": "markdown",
   "metadata": {},
   "source": [
    "# BZ Reaction "
   ]
  },
  {
   "cell_type": "markdown",
   "metadata": {},
   "source": [
    "\\begin{align*} \\epsilon\\dfrac{du}{dt} &= qv - uv + u(1-u)\\\\ \\epsilon'\\dfrac{dv}{dt} &= -qv - uv + fw\\\\ \\dfrac{dw}{dt} &= u - w \\end{align*}"
   ]
  },
  {
   "cell_type": "markdown",
   "metadata": {},
   "source": [
    "$$ (\\epsilon , \\epsilon' , q , f) \n",
    "=\n",
    "(9.90 \\times 10^{-3}, 1.98 \\times 10^{-5}, 7.62 \\times 10^{-5}, 1.0)\n",
    "$$\n"
   ]
  },
  {
   "cell_type": "markdown",
   "metadata": {},
   "source": [
    "\\begin{align*} \\dfrac{du}{dt} &= d_u \\Delta u + \\epsilon^{-1}(qv - uv + u(1-u))\\\\ \\dfrac{dv}{dt} &= d_v \\Delta v + {\\epsilon'}^{-1}(-qv - uv + fw)\\\\ \\dfrac{dw}{dt} &= d_w \\Delta w + u - w \\end{align*}"
   ]
  },
  {
   "cell_type": "markdown",
   "metadata": {},
   "source": [
    "$$\n",
    "(d_u , d_v , d_w )\n",
    "= (0.2 \\times 10^{-3}, 0.2 \\times 10^{-3}, 0.0)\n",
    "$$\n",
    "$$ 0.0 \\leq x \\leq 1.0 $$"
   ]
  },
  {
   "cell_type": "code",
   "execution_count": null,
   "metadata": {},
   "outputs": [],
   "source": []
  },
  {
   "cell_type": "code",
   "execution_count": null,
   "metadata": {},
   "outputs": [],
   "source": []
  }
 ],
 "metadata": {
  "kernelspec": {
   "display_name": "Python 3",
   "language": "python",
   "name": "python3"
  },
  "language_info": {
   "codemirror_mode": {
    "name": "ipython",
    "version": 3
   },
   "file_extension": ".py",
   "mimetype": "text/x-python",
   "name": "python",
   "nbconvert_exporter": "python",
   "pygments_lexer": "ipython3",
   "version": "3.6.4"
  }
 },
 "nbformat": 4,
 "nbformat_minor": 2
}
