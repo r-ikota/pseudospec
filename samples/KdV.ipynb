{
 "cells": [
  {
   "cell_type": "markdown",
   "metadata": {},
   "source": [
    "# Korteweg-deVries Equation"
   ]
  },
  {
   "cell_type": "markdown",
   "metadata": {},
   "source": [
    "$$\n",
    "u_t + u u_x + \\mu u_{xxx} = 0 \\qquad (0 < x < 1)\n",
    "$$\n",
    "\n",
    "See [Interaction of \"Solitons\" in a Collisionless Plasma and the Recurrence of Initial States\n",
    "](https://journals.aps.org/prl/abstract/10.1103/PhysRevLett.15.240) (N. J. Zabusky and M. D. Kruskal\n",
    "Phys. Rev. Lett., Vol. 15, 240, 1965).\n",
    "\n",
    "It does not seem that the solution returns to the initial state exactly, though it gets close. I don't know why. More accurate schemes might be needed."
   ]
  },
  {
   "cell_type": "markdown",
   "metadata": {},
   "source": [
    "## Importing modules "
   ]
  },
  {
   "cell_type": "code",
   "execution_count": 1,
   "metadata": {},
   "outputs": [],
   "source": [
    "%matplotlib widget"
   ]
  },
  {
   "cell_type": "code",
   "execution_count": 2,
   "metadata": {},
   "outputs": [],
   "source": [
    "import time\n",
    "\n",
    "import numpy as np\n",
    "import equations as eq\n",
    "\n",
    "import h5py\n",
    "\n",
    "import matplotlib.pyplot as plt\n",
    "from matplotlib.gridspec import GridSpec\n",
    "from mpl_toolkits.axes_grid1.parasite_axes import HostAxes\n",
    "import matplotlib.transforms as mtransforms"
   ]
  },
  {
   "cell_type": "code",
   "execution_count": 3,
   "metadata": {},
   "outputs": [],
   "source": [
    "from IPython.display import display\n",
    "from ipywidgets import interactive, IntSlider"
   ]
  },
  {
   "cell_type": "markdown",
   "metadata": {
    "tags": []
   },
   "source": [
    "## Setting Parameters "
   ]
  },
  {
   "cell_type": "code",
   "execution_count": 4,
   "metadata": {},
   "outputs": [],
   "source": [
    "NW = 50\n",
    "kdv01 = eq.KdV(NW)\n",
    "args = kdv01.getParamDefault()\n",
    "\n",
    "J = kdv01.J\n",
    "x = kdv01.sc.get_x()"
   ]
  },
  {
   "cell_type": "markdown",
   "metadata": {},
   "source": [
    "## Setting initial data "
   ]
  },
  {
   "cell_type": "code",
   "execution_count": 5,
   "metadata": {},
   "outputs": [],
   "source": [
    "w0p = np.cos(2.0*np.pi*x).reshape((1,J))\n",
    "w0c = kdv01.sc.transform_wp2wc(w0p)"
   ]
  },
  {
   "cell_type": "markdown",
   "metadata": {},
   "source": [
    "## Preparation"
   ]
  },
  {
   "cell_type": "code",
   "execution_count": 6,
   "metadata": {},
   "outputs": [],
   "source": [
    "trange = np.linspace(0., 6.0, 601)\n",
    "max_step = 1.0e-1"
   ]
  },
  {
   "cell_type": "code",
   "execution_count": 7,
   "metadata": {},
   "outputs": [],
   "source": [
    "fname = 'kdv.hdf5'"
   ]
  },
  {
   "cell_type": "markdown",
   "metadata": {},
   "source": [
    "## Computation"
   ]
  },
  {
   "cell_type": "code",
   "execution_count": 8,
   "metadata": {},
   "outputs": [
    {
     "name": "stderr",
     "output_type": "stream",
     "text": [
      "Total of 6 its: 6it [00:09,  1.56s/it]\n"
     ]
    }
   ],
   "source": [
    "with h5py.File(fname, 'w') as fh:\n",
    "    kdv01.mkInitDataSet(w0c, fh)\n",
    "    kdv01.evolve(fh, trange, tuple(args), \n",
    "                max_step=max_step, method='Radau')"
   ]
  },
  {
   "cell_type": "markdown",
   "metadata": {},
   "source": [
    "## Visualization"
   ]
  },
  {
   "cell_type": "code",
   "execution_count": 9,
   "metadata": {
    "scrolled": true
   },
   "outputs": [],
   "source": [
    "with h5py.File(fname, 'r') as fh:\n",
    "    wp = fh['wp'][()]\n",
    "    powers = fh['powerspec'][()]\n",
    "    atime = fh['trange'][()]"
   ]
  },
  {
   "cell_type": "code",
   "execution_count": 10,
   "metadata": {},
   "outputs": [],
   "source": [
    "freq_max = NW\n",
    "freq = np.arange(NW)"
   ]
  },
  {
   "cell_type": "code",
   "execution_count": 11,
   "metadata": {},
   "outputs": [
    {
     "data": {
      "application/vnd.jupyter.widget-view+json": {
       "model_id": "a803e4bb37dd43eabd741bd7ae195c03",
       "version_major": 2,
       "version_minor": 0
      },
      "text/plain": [
       "Canvas(toolbar=Toolbar(toolitems=[('Home', 'Reset original view', 'home', 'home'), ('Back', 'Back to previous …"
      ]
     },
     "metadata": {},
     "output_type": "display_data"
    },
    {
     "data": {
      "application/vnd.jupyter.widget-view+json": {
       "model_id": "6d2f224de15640c6bc65256fc6ba632e",
       "version_major": 2,
       "version_minor": 0
      },
      "text/plain": [
       "interactive(children=(IntSlider(value=0, description='i', max=600), Output()), _dom_classes=('widget-interact'…"
      ]
     },
     "metadata": {},
     "output_type": "display_data"
    }
   ],
   "source": [
    "gsWS = GridSpec(1,2)\n",
    "gsT = GridSpec(1,1)\n",
    "gsWS.update(bottom=0.25, top=0.8, right=0.8)\n",
    "gsT.update(bottom=0.05, top=0.2)\n",
    "fig = plt.figure(figsize=(8,5))\n",
    "\n",
    "ax_ph = fig.add_subplot(gsWS[0,0])\n",
    "ax_ph.set_ylim((-1.2, 3.0))\n",
    "ax_ph.set_xlim((-0.1, 1.1))\n",
    "ax_ph.grid(True)\n",
    "ax_ph.set_xlabel('x')\n",
    "ax_ph.set_ylabel('u')\n",
    "\n",
    "ax_spec = fig.add_subplot(gsWS[0,1])\n",
    "ax_spec.yaxis.set_ticks_position('right')\n",
    "ax_spec.yaxis.set_label_position('right')\n",
    "ax_spec.set_xlim((0., NW))\n",
    "ax_spec.set_ylim(-0.05, 0.3)\n",
    "ax_spec.set_xlabel('mode')\n",
    "ax_spec.set_ylabel('power')\n",
    "ax_spec.grid(True)\n",
    "\n",
    "\n",
    "lines = ax_ph.plot(x, [np.nan]*len(x));\n",
    "\n",
    "pow_specs = ax_spec.plot(\n",
    "    freq[:freq_max],\n",
    "    [np.nan]*freq_max,\n",
    "    color=(1.0, 0.0, 0.0, 0.4)\n",
    "    )\n",
    "\n",
    "timeframe = fig.add_subplot(gsT[0])\n",
    "timeframe.set_axis_off()\n",
    "timer = timeframe.text(0.5,0.5,\n",
    "                       '', \n",
    "                       va='center', ha=\"center\"\n",
    "                      )\n",
    "timeformat = \"time = {0:05.3f}\"\n",
    "\n",
    "def animate(i):\n",
    "    for l in lines:\n",
    "        l.set_ydata(wp[i, 0, :]);\n",
    "    for p in pow_specs:\n",
    "        p.set_ydata(powers[i, 0, :freq_max])\n",
    "    timer.set_text(timeformat.format(atime[i]))\n",
    "\n",
    "plt.show()\n",
    "\n",
    "w = interactive(animate, \n",
    "                i=IntSlider(min=0, max=wp.shape[0] - 1, value=0)\n",
    "               )\n",
    "display(w)"
   ]
  }
 ],
 "metadata": {
  "kernelspec": {
   "display_name": "Python 3",
   "language": "python",
   "name": "python3"
  },
  "language_info": {
   "codemirror_mode": {
    "name": "ipython",
    "version": 3
   },
   "file_extension": ".py",
   "mimetype": "text/x-python",
   "name": "python",
   "nbconvert_exporter": "python",
   "pygments_lexer": "ipython3",
   "version": "3.8.8"
  }
 },
 "nbformat": 4,
 "nbformat_minor": 4
}
