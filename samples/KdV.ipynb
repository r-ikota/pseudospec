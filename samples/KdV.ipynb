{
 "cells": [
  {
   "cell_type": "markdown",
   "metadata": {},
   "source": [
    "# Korteweg-deVries Equation"
   ]
  },
  {
   "cell_type": "markdown",
   "metadata": {},
   "source": [
    "$$\n",
    "u_t + u u_x + \\mu u_{xxx} = 0 \\qquad (0 < x < 1)\n",
    "$$\n",
    "\n",
    "See [Interaction of \"Solitons\" in a Collisionless Plasma and the Recurrence of Initial States\n",
    "](https://journals.aps.org/prl/abstract/10.1103/PhysRevLett.15.240) (N. J. Zabusky and M. D. Kruskal\n",
    "Phys. Rev. Lett., Vol. 15, 240, 1965).\n",
    "\n",
    "It does not seem that the solution returns to the initial state exactly, though it gets close. I don't know why. More accurate schemes might be needed."
   ]
  },
  {
   "cell_type": "markdown",
   "metadata": {},
   "source": [
    "## Importing modules "
   ]
  },
  {
   "cell_type": "code",
   "execution_count": 26,
   "metadata": {},
   "outputs": [],
   "source": [
    "import time\n",
    "\n",
    "import numpy as np\n",
    "import equations as eq\n",
    "\n",
    "import h5py\n",
    "\n",
    "import matplotlib.pyplot as plt\n",
    "from matplotlib.gridspec import GridSpec\n",
    "from matplotlib.widgets import Slider"
   ]
  },
  {
   "cell_type": "code",
   "execution_count": 27,
   "metadata": {},
   "outputs": [],
   "source": [
    "%matplotlib widget"
   ]
  },
  {
   "cell_type": "markdown",
   "metadata": {
    "tags": []
   },
   "source": [
    "## Setting Parameters "
   ]
  },
  {
   "cell_type": "code",
   "execution_count": 28,
   "metadata": {},
   "outputs": [],
   "source": [
    "NW = 50\n",
    "kdv01 = eq.KdV(NW)\n",
    "args = kdv01.getParamDefault()\n",
    "\n",
    "J = kdv01.J\n",
    "x = kdv01.sc.get_x()"
   ]
  },
  {
   "cell_type": "markdown",
   "metadata": {},
   "source": [
    "## Setting initial data "
   ]
  },
  {
   "cell_type": "code",
   "execution_count": 29,
   "metadata": {},
   "outputs": [],
   "source": [
    "w0p = np.cos(2.0*np.pi*x).reshape((1,J))\n",
    "w0c = kdv01.sc.transform_wp2wc(w0p)"
   ]
  },
  {
   "cell_type": "markdown",
   "metadata": {},
   "source": [
    "## Preparation"
   ]
  },
  {
   "cell_type": "code",
   "execution_count": 30,
   "metadata": {},
   "outputs": [],
   "source": [
    "trange = np.linspace(0., 6.0, 601)\n",
    "max_step = 1.0e-1\n",
    "fname = 'kdv.hdf5'"
   ]
  },
  {
   "cell_type": "markdown",
   "metadata": {},
   "source": [
    "## Computation"
   ]
  },
  {
   "cell_type": "code",
   "execution_count": null,
   "metadata": {},
   "outputs": [],
   "source": [
    "with h5py.File(fname, 'w') as fh:\n",
    "    kdv01.mkInitDataSet(w0c, fh)\n",
    "    kdv01.evolve(fh, trange, tuple(args), \n",
    "                max_step=max_step, method='Radau', pb_type=\"notebook\")"
   ]
  },
  {
   "cell_type": "markdown",
   "metadata": {},
   "source": [
    "## Visualization"
   ]
  },
  {
   "cell_type": "code",
   "execution_count": 32,
   "metadata": {
    "scrolled": true
   },
   "outputs": [],
   "source": [
    "with h5py.File(fname, 'r') as fh:\n",
    "    wp = fh['wp'][()]\n",
    "    powers = fh['powerspec'][()]\n",
    "    atime = fh['trange'][()]"
   ]
  },
  {
   "cell_type": "code",
   "execution_count": 33,
   "metadata": {},
   "outputs": [],
   "source": [
    "freq_max = NW\n",
    "freq = np.arange(NW)"
   ]
  },
  {
   "cell_type": "code",
   "execution_count": null,
   "metadata": {},
   "outputs": [],
   "source": [
    "gsWS = GridSpec(1,2)\n",
    "gsTimeSlider = GridSpec(2,1)\n",
    "gsWS.update(bottom=0.25, top=0.8, right=0.8)\n",
    "gsTimeSlider.update(bottom=0.05, top=0.2)\n",
    "\n",
    "fig = plt.figure(figsize=(6,6));\n",
    "\n",
    "ax_ph = fig.add_subplot(gsWS[0,0])\n",
    "ax_ph.set_ylim((-1.2, 3.0))\n",
    "ax_ph.set_xlim((-0.1, 1.1))\n",
    "ax_ph.grid(True)\n",
    "ax_ph.set_xlabel('x')\n",
    "ax_ph.set_ylabel('u')\n",
    "\n",
    "ax_spec = fig.add_subplot(gsWS[0,1])\n",
    "ax_spec.yaxis.set_ticks_position('right')\n",
    "ax_spec.yaxis.set_label_position('right')\n",
    "ax_spec.set_xlim((0., NW))\n",
    "ax_spec.set_ylim(-0.05, 0.3)\n",
    "ax_spec.set_xlabel('mode')\n",
    "ax_spec.set_ylabel('power')\n",
    "ax_spec.grid(True)\n",
    "\n",
    "\n",
    "lines = ax_ph.plot(x, [np.nan]*len(x));\n",
    "\n",
    "pow_specs = ax_spec.plot(\n",
    "    freq[:freq_max],\n",
    "    [np.nan]*freq_max,\n",
    "    color=(1.0, 0.0, 0.0, 0.4)\n",
    "    )\n",
    "\n",
    "timeframe = fig.add_subplot(gsTimeSlider[0,0])\n",
    "timeframe.set_axis_off()\n",
    "timer = timeframe.text(0.5,0.5,\n",
    "                       '', \n",
    "                       va='center', ha=\"center\"\n",
    "                      )\n",
    "timeformat = \"time = {0:05.3f}\"\n",
    "\n",
    "slider = Slider(\n",
    "    ax = fig.add_subplot(gsTimeSlider[1,0]),\n",
    "    valmin=0,\n",
    "    valmax= wp.shape[0] - 1,\n",
    "    label=\"time index\",\n",
    "    valstep=1,\n",
    "    valinit=0,\n",
    "    orientation=\"horizontal\"\n",
    ")\n",
    "\n",
    "def _update(idx):\n",
    "    for l in lines:\n",
    "        l.set_ydata(wp[idx, 0, :]);\n",
    "    for p in pow_specs:\n",
    "        p.set_ydata(powers[idx, 0, :freq_max])\n",
    "    timer.set_text(timeformat.format(atime[idx]))\n",
    "\n",
    "slider.on_changed(_update)\n",
    "\n"
   ]
  }
 ],
 "metadata": {
  "kernelspec": {
   "display_name": "Python 3 (ipykernel)",
   "language": "python",
   "name": "python3"
  },
  "language_info": {
   "codemirror_mode": {
    "name": "ipython",
    "version": 3
   },
   "file_extension": ".py",
   "mimetype": "text/x-python",
   "name": "python",
   "nbconvert_exporter": "python",
   "pygments_lexer": "ipython3",
   "version": "3.10.12"
  }
 },
 "nbformat": 4,
 "nbformat_minor": 4
}
