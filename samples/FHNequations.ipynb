{
 "cells": [
  {
   "cell_type": "markdown",
   "metadata": {},
   "source": [
    "# FHN equations"
   ]
  },
  {
   "cell_type": "markdown",
   "metadata": {},
   "source": [
    "$$\n",
    "\\begin{align}\n",
    "\\partial_t u &= D_u \\Delta u + [u(1-u)(u-a) -v  ]/\\epsilon\\\\\n",
    "\\partial_t v &= D_v \\Delta v + \\epsilon (u - \\gamma v)\n",
    "\\end{align}\n",
    "$$"
   ]
  },
  {
   "cell_type": "markdown",
   "metadata": {},
   "source": [
    "$$\n",
    "(a, \\epsilon, \\gamma, D_u, D_v) \n",
    "= (0.25, 0.05, 3.0, 4.0 \\times 10^{-5}, 1.0\\times 10^{-7})\n",
    "$$"
   ]
  },
  {
   "cell_type": "markdown",
   "metadata": {},
   "source": [
    "## Importing modules "
   ]
  },
  {
   "cell_type": "code",
   "execution_count": 1,
   "metadata": {},
   "outputs": [],
   "source": [
    "%matplotlib qt5"
   ]
  },
  {
   "cell_type": "code",
   "execution_count": 2,
   "metadata": {},
   "outputs": [],
   "source": [
    "import numpy as np\n",
    "import equations as eq\n",
    "from scipy.fftpack import rfft, irfft\n",
    "\n",
    "import h5py\n",
    "import time"
   ]
  },
  {
   "cell_type": "code",
   "execution_count": 3,
   "metadata": {},
   "outputs": [],
   "source": [
    "import matplotlib.pyplot as plt\n",
    "import matplotlib.animation as animation"
   ]
  },
  {
   "cell_type": "markdown",
   "metadata": {},
   "source": [
    "## Setting Parameters "
   ]
  },
  {
   "cell_type": "code",
   "execution_count": 4,
   "metadata": {},
   "outputs": [],
   "source": [
    "NW = 100\n",
    "fhn01 = eq.FHN(NW)\n",
    "args = fhn01.getParamDefault()"
   ]
  },
  {
   "cell_type": "code",
   "execution_count": 5,
   "metadata": {},
   "outputs": [],
   "source": [
    "N2 = fhn01.N2\n",
    "J = fhn01.J\n",
    "x = fhn01.get_x()"
   ]
  },
  {
   "cell_type": "markdown",
   "metadata": {},
   "source": [
    "## Setting initial data "
   ]
  },
  {
   "cell_type": "code",
   "execution_count": 6,
   "metadata": {},
   "outputs": [],
   "source": [
    "uv0 = np.zeros(2*N2)\n",
    "u0,v0 = uv0.reshape((2,N2))\n",
    "U0 = np.zeros(J) + 0.4*np.exp(-800.0*(x-0.4)**2)\n",
    "V0 = np.zeros(J) + 5.0e-2*np.exp(-800.0*(x-0.35)**2)\n",
    "\n",
    "u0[:] = rfft(U0)[:N2]\n",
    "v0[:] = rfft(V0)[:N2]"
   ]
  },
  {
   "cell_type": "markdown",
   "metadata": {},
   "source": [
    "## Computation "
   ]
  },
  {
   "cell_type": "code",
   "execution_count": 7,
   "metadata": {},
   "outputs": [
    {
     "name": "stdout",
     "output_type": "stream",
     "text": [
      "24\n"
     ]
    }
   ],
   "source": [
    "trange = np.linspace(0.0, 100.0, 5001)\n",
    "maxdt = 1.0e-2\n",
    "stime = time.time()\n",
    "with h5py.File('fhn.hdf5', 'w') as fh:\n",
    "    fhn01.mkInitDataSet(uv0, fh, maxdt)    \n",
    "    fhn01.evolve(fh,trange,args, method='BDF')\n",
    "    data = fh['u'][()]\n",
    "etime = time.time()\n",
    "print(int(etime - stime))"
   ]
  },
  {
   "cell_type": "code",
   "execution_count": 8,
   "metadata": {},
   "outputs": [
    {
     "name": "stderr",
     "output_type": "stream",
     "text": [
      "C:\\Users\\rikota\\Anaconda3\\lib\\site-packages\\scipy\\fftpack\\basic.py:160: FutureWarning: Using a non-tuple sequence for multidimensional indexing is deprecated; use `arr[tuple(seq)]` instead of `arr[seq]`. In the future this will be interpreted as an array index, `arr[np.array(seq)]`, which will result either in an error or a different result.\n",
      "  z[index] = x\n"
     ]
    }
   ],
   "source": [
    "up = fhn01.mkPhysData(\n",
    "        fhn01.reshapeTS(data))"
   ]
  },
  {
   "cell_type": "markdown",
   "metadata": {},
   "source": [
    "## Visualization "
   ]
  },
  {
   "cell_type": "code",
   "execution_count": 9,
   "metadata": {},
   "outputs": [],
   "source": [
    "fig = plt.figure(figsize=(4,3))\n",
    "ax = fig.add_subplot(111)\n",
    "\n",
    "ax.set_ylim((-0.5, 1.5))\n",
    "ax.set_xlim((-0.1, 1.1))\n",
    "ax.grid(True)\n",
    "lines = plt.plot(x, [np.nan]*len(x), x, [np.nan]*len(x));"
   ]
  },
  {
   "cell_type": "code",
   "execution_count": 10,
   "metadata": {},
   "outputs": [],
   "source": [
    "def init():\n",
    "    for l in lines:\n",
    "        l.set_ydata([np.nan] * len(x))\n",
    "    return lines\n",
    "\n",
    "def animate(i):\n",
    "    for j, l in enumerate(lines):\n",
    "        l.set_ydata(up[i,j,:])\n",
    "    return lines"
   ]
  },
  {
   "cell_type": "code",
   "execution_count": 11,
   "metadata": {},
   "outputs": [],
   "source": [
    "ani = animation.FuncAnimation(\n",
    "    fig, animate, frames=len(trange),\n",
    "    init_func=init, interval=1, blit=True,\n",
    "    repeat=True)\n",
    "\n",
    "plt.show()"
   ]
  }
 ],
 "metadata": {
  "kernelspec": {
   "display_name": "Python 3",
   "language": "python",
   "name": "python3"
  },
  "language_info": {
   "codemirror_mode": {
    "name": "ipython",
    "version": 3
   },
   "file_extension": ".py",
   "mimetype": "text/x-python",
   "name": "python",
   "nbconvert_exporter": "python",
   "pygments_lexer": "ipython3",
   "version": "3.7.1"
  }
 },
 "nbformat": 4,
 "nbformat_minor": 2
}
