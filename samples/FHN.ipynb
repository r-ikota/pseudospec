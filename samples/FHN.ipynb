{
 "cells": [
  {
   "cell_type": "markdown",
   "metadata": {},
   "source": [
    "# FHN equations"
   ]
  },
  {
   "cell_type": "markdown",
   "metadata": {},
   "source": [
    "$$\n",
    "\\begin{align}\n",
    "\\partial_t u &= D_u \\Delta u + [u(1-u)(u-a) -v  ]/\\epsilon\\\\\n",
    "\\partial_t v &= D_v \\Delta v + \\epsilon (u - \\gamma v)\n",
    "\\end{align}\n",
    "$$"
   ]
  },
  {
   "cell_type": "markdown",
   "metadata": {},
   "source": [
    "$$\n",
    "(a, \\epsilon, \\gamma, D_u, D_v) \n",
    "= (0.25, 0.05, 3.0, 4.0 \\times 10^{-5}, 1.0\\times 10^{-7})\n",
    "$$"
   ]
  },
  {
   "cell_type": "markdown",
   "metadata": {},
   "source": [
    "## Importing modules "
   ]
  },
  {
   "cell_type": "code",
   "execution_count": 1,
   "metadata": {},
   "outputs": [],
   "source": [
    "import numpy as np\n",
    "import equations as eq\n",
    "\n",
    "import h5py\n",
    "import time\n",
    "\n",
    "import matplotlib.pyplot as plt\n",
    "import matplotlib.animation as animation\n",
    "\n",
    "from IPython.display import HTML"
   ]
  },
  {
   "cell_type": "markdown",
   "metadata": {},
   "source": [
    "## Setting Parameters "
   ]
  },
  {
   "cell_type": "code",
   "execution_count": 2,
   "metadata": {},
   "outputs": [],
   "source": [
    "NW = 100\n",
    "fhn01 = eq.FHN(NW)\n",
    "args = fhn01.getParamDefault()\n",
    "\n",
    "J = fhn01.J\n",
    "x = fhn01.sc.get_x()\n",
    "\n",
    "trange = np.linspace(0.0, 50.0, 2501)"
   ]
  },
  {
   "cell_type": "markdown",
   "metadata": {},
   "source": [
    "## Setting initial data "
   ]
  },
  {
   "cell_type": "code",
   "execution_count": 3,
   "metadata": {},
   "outputs": [],
   "source": [
    "uv0p = fhn01.sc.get_zero_pwave((2,))\n",
    "uv0p[0] = np.zeros(J) + 0.4*np.exp(-800.0*(x-0.4)**2)\n",
    "uv0p[1] = np.zeros(J) + 5.0e-2*np.exp(-800.0*(x-0.35)**2)\n",
    "uv0c = fhn01.sc.transform_wp2wc(uv0p)"
   ]
  },
  {
   "cell_type": "markdown",
   "metadata": {},
   "source": [
    "## Computation "
   ]
  },
  {
   "cell_type": "code",
   "execution_count": null,
   "metadata": {},
   "outputs": [
    {
     "data": {
      "application/vnd.jupyter.widget-view+json": {
       "model_id": "13bea9a6ba8d4964b94108cfe80fdc59",
       "version_major": 2,
       "version_minor": 0
      },
      "text/plain": [
       "  0%|          | 0/25 [00:00<?, ?it/s]"
      ]
     },
     "metadata": {},
     "output_type": "display_data"
    },
    {
     "data": {
      "application/vnd.jupyter.widget-view+json": {
       "model_id": "5a2f08c57e8e4562b4c639e34cbce84f",
       "version_major": 2,
       "version_minor": 0
      },
      "text/plain": [
       "  0%|          | 0/25 [00:00<?, ?it/s]"
      ]
     },
     "metadata": {},
     "output_type": "display_data"
    }
   ],
   "source": [
    "max_step = 1.0e-2\n",
    "with h5py.File('fhn.hdf5', 'w') as fh:\n",
    "    fhn01.mkInitDataSet(uv0c, fh)    \n",
    "    fhn01.evolve(fh,trange,args, max_step=max_step, method='BDF', pb_type=\"notebook\")\n",
    "    fhn01.evolve(fh,trange,args, max_step=max_step, method='BDF', pb_type=\"notebook\")"
   ]
  },
  {
   "cell_type": "markdown",
   "metadata": {},
   "source": [
    "## Visualization "
   ]
  },
  {
   "cell_type": "code",
   "execution_count": null,
   "metadata": {},
   "outputs": [],
   "source": [
    "with h5py.File('fhn.hdf5', 'r') as fh:\n",
    "    wp = fh['wp'][()]"
   ]
  },
  {
   "cell_type": "code",
   "execution_count": null,
   "metadata": {},
   "outputs": [],
   "source": [
    "fig = plt.figure(figsize=(4,3));\n",
    "ax = fig.add_subplot(111);\n",
    "\n",
    "ax.set_ylim((-0.5, 1.5))\n",
    "ax.set_xlim((-0.1, 1.1))\n",
    "ax.grid(True)\n",
    "lines = plt.plot(x, [np.nan]*len(x), x, [np.nan]*len(x));\n",
    "plt.close()\n",
    "step = 20\n",
    "\n",
    "def init():\n",
    "    for l in lines:\n",
    "        l.set_ydata([np.nan] * len(x))\n",
    "    return lines\n",
    "\n",
    "def animate(i):\n",
    "    for j, l in enumerate(lines):\n",
    "        l.set_ydata(wp[i * step,j,:])\n",
    "    return lines\n",
    "\n",
    "ani = animation.FuncAnimation(\n",
    "    fig,\n",
    "    animate,\n",
    "    frames=len(trange) // step,\n",
    "    init_func=init,\n",
    "    interval=50,\n",
    "    repeat=False);\n",
    "\n",
    "HTML(ani.to_jshtml())"
   ]
  }
 ],
 "metadata": {
  "kernelspec": {
   "display_name": "Python 3 (ipykernel)",
   "language": "python",
   "name": "python3"
  },
  "language_info": {
   "codemirror_mode": {
    "name": "ipython",
    "version": 3
   },
   "file_extension": ".py",
   "mimetype": "text/x-python",
   "name": "python",
   "nbconvert_exporter": "python",
   "pygments_lexer": "ipython3",
   "version": "3.9.5"
  }
 },
 "nbformat": 4,
 "nbformat_minor": 4
}
